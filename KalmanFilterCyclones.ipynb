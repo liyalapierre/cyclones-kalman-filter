{
  "nbformat": 4,
  "nbformat_minor": 0,
  "metadata": {
    "colab": {
      "name": "KalmanFilterCyclones.ipynb",
      "provenance": [],
      "collapsed_sections": [
        "0CDlfmDa6zgM",
        "EPfElTqP7BCM",
        "BTWvwnnt_gas",
        "do1_nT3xgyiI",
        "alc-f_1n7Z9o",
        "y2Bbk9F27fQ6",
        "kdspWrIYzkLI",
        "dhhCXZ7jBYN5",
        "nSHsOgoKgFHQ",
        "3vByuZ9O7thb"
      ],
      "include_colab_link": true
    },
    "kernelspec": {
      "name": "python3",
      "display_name": "Python 3"
    },
    "language_info": {
      "name": "python"
    }
  },
  "cells": [
    {
      "cell_type": "markdown",
      "metadata": {
        "id": "view-in-github",
        "colab_type": "text"
      },
      "source": [
        "<a href=\"https://colab.research.google.com/github/liyalapierre/cyclones-kalman-filter/blob/main/KalmanFilterCyclones.ipynb\" target=\"_parent\"><img src=\"https://colab.research.google.com/assets/colab-badge.svg\" alt=\"Open In Colab\"/></a>"
      ]
    },
    {
      "cell_type": "markdown",
      "source": [
        "###**INTRODUCTION**"
      ],
      "metadata": {
        "id": "0CDlfmDa6zgM"
      }
    },
    {
      "cell_type": "markdown",
      "source": [
        "In this project, we will be using the Kalman filter to track the path of tropical cyclones and predict the next location as the cyclone is traveling. Tracking tropical cyclones accurately is important, as it gives people time to prepare if you can know ahead of time where a cyclone will end up. The application of the Kalman filter is done in the simplest way by predicting future paths of travel using the positional data of the cyclones center. Using cyclone data, we will be able to derive and apply a Kalman filter to more accurately track cyclone paths and predict future locations. "
      ],
      "metadata": {
        "id": "ln1Hmd4L6-I4"
      }
    },
    {
      "cell_type": "markdown",
      "source": [
        "###**OUR DATA**"
      ],
      "metadata": {
        "id": "EPfElTqP7BCM"
      }
    },
    {
      "cell_type": "markdown",
      "source": [
        "A description of the source of the data, including all necessary links to data sources, where possible. The file will also perform all the necessary preprocessing of the data, as you performed in your analysis. This should allow a reader to obtain the data and reproduce your data preprocessing. "
      ],
      "metadata": {
        "id": "SBbWQZVz7IYB"
      }
    },
    {
      "cell_type": "markdown",
      "source": [
        "We are using data from the Atlantic Hurricane Database (HURDAT2) provided by NOAA. This dataset contains records of “six-hourly information on the location, maximum winds, central pressure, and (beginning in 2004) size of all known tropical cyclones and subtropical cyclones”. This data can be downloaded from this website:\n",
        "\n",
        "https://www.nhc.noaa.gov/data/#hurdat"
      ],
      "metadata": {
        "id": "WWs5nK8b98KJ"
      }
    },
    {
      "cell_type": "markdown",
      "source": [
        "####Import Libraries:"
      ],
      "metadata": {
        "id": "BTWvwnnt_gas"
      }
    },
    {
      "cell_type": "code",
      "source": [
        "!pip install pykalman -q"
      ],
      "metadata": {
        "id": "601B8lgB_f2M"
      },
      "execution_count": null,
      "outputs": []
    },
    {
      "cell_type": "code",
      "source": [
        "import numpy as np\n",
        "import matplotlib.pyplot as plt\n",
        "import pandas as pd\n",
        "import math\n",
        "from scipy import stats, special\n",
        "import seaborn as sns \n",
        "sns.set_style(\"whitegrid\")\n",
        "from numpy.linalg import inv\n",
        "from pykalman import KalmanFilter"
      ],
      "metadata": {
        "id": "qWgGW1v0_7lE"
      },
      "execution_count": null,
      "outputs": []
    },
    {
      "cell_type": "markdown",
      "source": [
        "#### Data Preparation"
      ],
      "metadata": {
        "id": "do1_nT3xgyiI"
      }
    },
    {
      "cell_type": "code",
      "source": [
        "# url to downloaded txt file on Github\n",
        "url = \"https://raw.githubusercontent.com/liyalapierre/cyclones-kalman-filter/main/hurdat2-nepac-1949-2020-043021a.txt\"\n",
        "\n",
        "# column names (based on HURDAT2 documentation)\n",
        "cols = [\"Date\", \"Time_UTC\", \"Record_ID\", \"Status\", \"Latitude\", \"Longitude\", \"Max_Sust_Wind\", \"Max_Pressure\", \n",
        "        \"Wind_34_NE\", \"Wind_34_SE\", \"Wind_34_SW\", \"Wind_34_NW\", \"Wind_50_NE\", \"Wind_50_SE\", \"Wind_50_SW\", \"Wind_50_NW\", \"Wind_64_NE\", \"Wind_64_SE\",\n",
        "        \"Wind_64_SW\", \"Wind_64_NW\"]\n",
        "\n",
        "# creating data frame w/ specified column names\n",
        "data = pd.read_csv(url, names = cols, index_col=False) \n",
        "\n",
        "# limiting to just columns we want\n",
        "data = data.iloc[:, [0, 1, 4, 5]]\n",
        "\n",
        "# viewing head of data frame\n",
        "data.head()"
      ],
      "metadata": {
        "colab": {
          "base_uri": "https://localhost:8080/",
          "height": 206
        },
        "id": "draKAmDW_bcK",
        "outputId": "9118bad9-82a7-4534-b938-4ae08a2027cd"
      },
      "execution_count": null,
      "outputs": [
        {
          "output_type": "execute_result",
          "data": {
            "text/plain": [
              "       Date             Time_UTC Latitude Longitude\n",
              "0  EP011949              UNNAMED      NaN       NaN\n",
              "1  19490611                 0000    20.2N    106.3W\n",
              "2  19490611                 0600    20.2N    106.4W\n",
              "3  19490611                 1200    20.2N    106.7W\n",
              "4  19490611                 1800    20.3N    107.7W"
            ],
            "text/html": [
              "\n",
              "  <div id=\"df-20a18268-9401-40fd-af91-779cd11b836b\">\n",
              "    <div class=\"colab-df-container\">\n",
              "      <div>\n",
              "<style scoped>\n",
              "    .dataframe tbody tr th:only-of-type {\n",
              "        vertical-align: middle;\n",
              "    }\n",
              "\n",
              "    .dataframe tbody tr th {\n",
              "        vertical-align: top;\n",
              "    }\n",
              "\n",
              "    .dataframe thead th {\n",
              "        text-align: right;\n",
              "    }\n",
              "</style>\n",
              "<table border=\"1\" class=\"dataframe\">\n",
              "  <thead>\n",
              "    <tr style=\"text-align: right;\">\n",
              "      <th></th>\n",
              "      <th>Date</th>\n",
              "      <th>Time_UTC</th>\n",
              "      <th>Latitude</th>\n",
              "      <th>Longitude</th>\n",
              "    </tr>\n",
              "  </thead>\n",
              "  <tbody>\n",
              "    <tr>\n",
              "      <th>0</th>\n",
              "      <td>EP011949</td>\n",
              "      <td>UNNAMED</td>\n",
              "      <td>NaN</td>\n",
              "      <td>NaN</td>\n",
              "    </tr>\n",
              "    <tr>\n",
              "      <th>1</th>\n",
              "      <td>19490611</td>\n",
              "      <td>0000</td>\n",
              "      <td>20.2N</td>\n",
              "      <td>106.3W</td>\n",
              "    </tr>\n",
              "    <tr>\n",
              "      <th>2</th>\n",
              "      <td>19490611</td>\n",
              "      <td>0600</td>\n",
              "      <td>20.2N</td>\n",
              "      <td>106.4W</td>\n",
              "    </tr>\n",
              "    <tr>\n",
              "      <th>3</th>\n",
              "      <td>19490611</td>\n",
              "      <td>1200</td>\n",
              "      <td>20.2N</td>\n",
              "      <td>106.7W</td>\n",
              "    </tr>\n",
              "    <tr>\n",
              "      <th>4</th>\n",
              "      <td>19490611</td>\n",
              "      <td>1800</td>\n",
              "      <td>20.3N</td>\n",
              "      <td>107.7W</td>\n",
              "    </tr>\n",
              "  </tbody>\n",
              "</table>\n",
              "</div>\n",
              "      <button class=\"colab-df-convert\" onclick=\"convertToInteractive('df-20a18268-9401-40fd-af91-779cd11b836b')\"\n",
              "              title=\"Convert this dataframe to an interactive table.\"\n",
              "              style=\"display:none;\">\n",
              "        \n",
              "  <svg xmlns=\"http://www.w3.org/2000/svg\" height=\"24px\"viewBox=\"0 0 24 24\"\n",
              "       width=\"24px\">\n",
              "    <path d=\"M0 0h24v24H0V0z\" fill=\"none\"/>\n",
              "    <path d=\"M18.56 5.44l.94 2.06.94-2.06 2.06-.94-2.06-.94-.94-2.06-.94 2.06-2.06.94zm-11 1L8.5 8.5l.94-2.06 2.06-.94-2.06-.94L8.5 2.5l-.94 2.06-2.06.94zm10 10l.94 2.06.94-2.06 2.06-.94-2.06-.94-.94-2.06-.94 2.06-2.06.94z\"/><path d=\"M17.41 7.96l-1.37-1.37c-.4-.4-.92-.59-1.43-.59-.52 0-1.04.2-1.43.59L10.3 9.45l-7.72 7.72c-.78.78-.78 2.05 0 2.83L4 21.41c.39.39.9.59 1.41.59.51 0 1.02-.2 1.41-.59l7.78-7.78 2.81-2.81c.8-.78.8-2.07 0-2.86zM5.41 20L4 18.59l7.72-7.72 1.47 1.35L5.41 20z\"/>\n",
              "  </svg>\n",
              "      </button>\n",
              "      \n",
              "  <style>\n",
              "    .colab-df-container {\n",
              "      display:flex;\n",
              "      flex-wrap:wrap;\n",
              "      gap: 12px;\n",
              "    }\n",
              "\n",
              "    .colab-df-convert {\n",
              "      background-color: #E8F0FE;\n",
              "      border: none;\n",
              "      border-radius: 50%;\n",
              "      cursor: pointer;\n",
              "      display: none;\n",
              "      fill: #1967D2;\n",
              "      height: 32px;\n",
              "      padding: 0 0 0 0;\n",
              "      width: 32px;\n",
              "    }\n",
              "\n",
              "    .colab-df-convert:hover {\n",
              "      background-color: #E2EBFA;\n",
              "      box-shadow: 0px 1px 2px rgba(60, 64, 67, 0.3), 0px 1px 3px 1px rgba(60, 64, 67, 0.15);\n",
              "      fill: #174EA6;\n",
              "    }\n",
              "\n",
              "    [theme=dark] .colab-df-convert {\n",
              "      background-color: #3B4455;\n",
              "      fill: #D2E3FC;\n",
              "    }\n",
              "\n",
              "    [theme=dark] .colab-df-convert:hover {\n",
              "      background-color: #434B5C;\n",
              "      box-shadow: 0px 1px 3px 1px rgba(0, 0, 0, 0.15);\n",
              "      filter: drop-shadow(0px 1px 2px rgba(0, 0, 0, 0.3));\n",
              "      fill: #FFFFFF;\n",
              "    }\n",
              "  </style>\n",
              "\n",
              "      <script>\n",
              "        const buttonEl =\n",
              "          document.querySelector('#df-20a18268-9401-40fd-af91-779cd11b836b button.colab-df-convert');\n",
              "        buttonEl.style.display =\n",
              "          google.colab.kernel.accessAllowed ? 'block' : 'none';\n",
              "\n",
              "        async function convertToInteractive(key) {\n",
              "          const element = document.querySelector('#df-20a18268-9401-40fd-af91-779cd11b836b');\n",
              "          const dataTable =\n",
              "            await google.colab.kernel.invokeFunction('convertToInteractive',\n",
              "                                                     [key], {});\n",
              "          if (!dataTable) return;\n",
              "\n",
              "          const docLinkHtml = 'Like what you see? Visit the ' +\n",
              "            '<a target=\"_blank\" href=https://colab.research.google.com/notebooks/data_table.ipynb>data table notebook</a>'\n",
              "            + ' to learn more about interactive tables.';\n",
              "          element.innerHTML = '';\n",
              "          dataTable['output_type'] = 'display_data';\n",
              "          await google.colab.output.renderOutput(dataTable, element);\n",
              "          const docLink = document.createElement('div');\n",
              "          docLink.innerHTML = docLinkHtml;\n",
              "          element.appendChild(docLink);\n",
              "        }\n",
              "      </script>\n",
              "    </div>\n",
              "  </div>\n",
              "  "
            ]
          },
          "metadata": {},
          "execution_count": 3
        }
      ]
    },
    {
      "cell_type": "code",
      "source": [
        "# Removing direction characters from latitude column\n",
        "for row in range(len(data.iloc[:, 2])):\n",
        "  if pd.isnull(data.iloc[row, 2]) == False:\n",
        "    data.iloc[row, 2] = data.iloc[row, 2].replace(\"N\", \"\")\n",
        "    data.iloc[row, 2] = data.iloc[row, 2].replace(\"S\", \"\")\n",
        "\n",
        "# Removing direction characters from longtitude column\n",
        "for row in range(len(data.iloc[:, 3])):\n",
        "  if pd.isnull(data.iloc[row, 3]) == False:\n",
        "    data.iloc[row, 3] = data.iloc[row, 3].replace(\"E\", \"\")\n",
        "    data.iloc[row, 3] = data.iloc[row, 3].replace(\"W\", \"\")"
      ],
      "metadata": {
        "id": "VUAr_2Rgv5kY"
      },
      "execution_count": null,
      "outputs": []
    },
    {
      "cell_type": "code",
      "source": [
        "# Converting to int\n",
        "data[\"Latitude\"] = data[\"Latitude\"].astype('float')\n",
        "data[\"Longitude\"] = data[\"Longitude\"].astype('float')"
      ],
      "metadata": {
        "id": "QuQpnyA71AE8"
      },
      "execution_count": null,
      "outputs": []
    },
    {
      "cell_type": "code",
      "source": [
        "# subsetting specific hurricanes as smaller datasets (without header rows)\n",
        "norbert = data.iloc[30618:30661,]\n",
        "marie = data.iloc[30566:30617,] # we don't use this data in this project"
      ],
      "metadata": {
        "id": "k7H-yo_3oAow"
      },
      "execution_count": null,
      "outputs": []
    },
    {
      "cell_type": "markdown",
      "source": [
        "###**OUR MODEL**"
      ],
      "metadata": {
        "id": "alc-f_1n7Z9o"
      }
    },
    {
      "cell_type": "markdown",
      "source": [
        "Our system model can be seen at the link below. The assumptions made are that the velocity is random with intial velocities set to 0, and that the noise associated with position and velocity is standard gaussian noise. Our model also assumes that latitude and longitude can be represented as planar coordinates while in reality they are spherical. This is because the overall travel of the tropical cyclones is small enough that the error of conversion is acceptable.\n",
        "\n",
        "https://drive.google.com/file/d/1yr4XlP93wTbJd97kwdWoOiJMf0HV1RE8/view?usp=sharing"
      ],
      "metadata": {
        "id": "xAfP0FeNQ4QD"
      }
    },
    {
      "cell_type": "markdown",
      "source": [
        "###**RESULTS**"
      ],
      "metadata": {
        "id": "y2Bbk9F27fQ6"
      }
    },
    {
      "cell_type": "markdown",
      "source": [
        "Resources we used for our code:\n",
        "\n",
        "https://filterpy.readthedocs.io/en/latest/kalman/KalmanFilter.html\n",
        "\n",
        "\n",
        "https://pykalman.github.io/#pykalman.KalmanFilter.em\n",
        "\n",
        "https://machinelearningspace.com/2d-object-tracking-using-kalman-filter/\n"
      ],
      "metadata": {
        "id": "lyMkJ6EJSxvY"
      }
    },
    {
      "cell_type": "markdown",
      "source": [
        "First, let's visualize the observed states of our cyclone."
      ],
      "metadata": {
        "id": "TJo7OviFoHc-"
      }
    },
    {
      "cell_type": "code",
      "source": [
        "# Plotting Norbert's Observed Path\n",
        "\n",
        "x = norbert[\"Latitude\"]\n",
        "y = norbert[\"Longitude\"]\n",
        "plt.plot(x, y)\n",
        "\n",
        "plt.title(\"Observed Position of Norbert\", size = 16)\n",
        "plt.xlabel(\"Latitude\", size = 14)\n",
        "plt.ylabel(\"Longitude\", size = 14)"
      ],
      "metadata": {
        "colab": {
          "base_uri": "https://localhost:8080/",
          "height": 319
        },
        "id": "KGTIJMRbZnlf",
        "outputId": "5a40ac7a-a21c-4fd1-9907-5a4417828da5"
      },
      "execution_count": null,
      "outputs": [
        {
          "output_type": "execute_result",
          "data": {
            "text/plain": [
              "Text(0, 0.5, 'Longitude')"
            ]
          },
          "metadata": {},
          "execution_count": 21
        },
        {
          "output_type": "display_data",
          "data": {
            "text/plain": [
              "<Figure size 432x288 with 1 Axes>"
            ],
            "image/png": "[encoded data removed]"
          },
          "metadata": {}
        }
      ]
    },
    {
      "cell_type": "code",
      "source": [
        "# What is the starting point?\n",
        "print(\"Initial Latitude: \", norbert.iloc[0,2])\n",
        "print(\"Initial Longitude: \", norbert.iloc[0,3])"
      ],
      "metadata": {
        "colab": {
          "base_uri": "https://localhost:8080/"
        },
        "id": "jmzGyQ5NtkiQ",
        "outputId": "72fee2cc-c38d-434c-a5d5-a968637eb520"
      },
      "execution_count": null,
      "outputs": [
        {
          "output_type": "stream",
          "name": "stdout",
          "text": [
            "Initial Latitude:  11.1\n",
            "Initial Longitude:  104.2\n"
          ]
        }
      ]
    },
    {
      "cell_type": "markdown",
      "source": [
        "#### Estimating parameters with all of our variables"
      ],
      "metadata": {
        "id": "kdspWrIYzkLI"
      }
    },
    {
      "cell_type": "markdown",
      "source": [
        "First we need to estimate the state covariance matrix and the observed noise covariance from our dataset. We will be using the EM algorithm from PyKalman to do this. "
      ],
      "metadata": {
        "id": "KpV-eM20nZVb"
      }
    },
    {
      "cell_type": "code",
      "source": [
        "# this block sets up the KalmanFilter with our known matrices and our best guesses\n",
        "\n",
        "# setting time interval (6 hr time interval between measurements)\n",
        "dt=6\n",
        "\n",
        "# setting up initial state of data and velocity\n",
        "ism=[norbert.iloc[0,2], 0, norbert.iloc[0,3], 0]\n",
        "\n",
        "# transition matrix\n",
        "A = np.array([[1,dt,0,0],\n",
        "              [0,1,0,0],\n",
        "              [0,0,1,dt],\n",
        "              [0,0,0,1]])\n",
        "\n",
        "# observation matrix\n",
        "C = np.array([[1,0,0,0],\n",
        "              [0,0,1,0]])\n",
        "\n",
        "# variables for state covariance matrix\n",
        "thirdt=(1/3)*(dt**2)\n",
        "halft=(1/2)*dt\n",
        "\n",
        "# guess for state covariance matrix\n",
        "state_cov_matrix_guess = np.array([[thirdt, halft, 0., 0.], \n",
        "                                   [halft, 1.0, 0., 0.],\n",
        "                                   [0., 0., thirdt, halft],\n",
        "                                   [0., 0., halft, 1.0]])\n",
        "\n",
        "# guess for observed noise covariance\n",
        "obs_std_guess = np.array([[1., 0],\n",
        "                          [0, 1.]])\n",
        "\n",
        "# inputting above matrices into the model\n",
        "kf_learn = KalmanFilter(initial_state_mean = ism,\n",
        "                        transition_matrices = A, \n",
        "                        observation_matrices = C, \n",
        "                        transition_covariance = state_cov_matrix_guess, \n",
        "                        observation_covariance = obs_std_guess**2, \n",
        "                        em_vars=['transition_covariance', 'observation_covariance'])"
      ],
      "metadata": {
        "id": "G9_M9hfvqsHj"
      },
      "execution_count": null,
      "outputs": []
    },
    {
      "cell_type": "code",
      "source": [
        "# applying the em method to learn based on the observed data\n",
        "\n",
        "# just the lat/long columns\n",
        "xy = norbert.iloc[:, [2,3]]\n",
        "\n",
        "# applying em\n",
        "kf_learn = kf_learn.em(xy, n_iter = 10)\n",
        "\n",
        "# saving the estimated transition covariance / observation covariance to variable\n",
        "est_trans_cov = kf_learn.transition_covariance\n",
        "est_obs_cov = kf_learn.observation_covariance"
      ],
      "metadata": {
        "id": "Vv21WtXj8_Zf"
      },
      "execution_count": null,
      "outputs": []
    },
    {
      "cell_type": "markdown",
      "source": [
        "#### Kalman filter with estimated parameters"
      ],
      "metadata": {
        "id": "dhhCXZ7jBYN5"
      }
    },
    {
      "cell_type": "markdown",
      "source": [
        "Now that we have estimated the state covariance matrix and the observed noise covariance from our dataset, we can input those into the Kalman Filter to get our filtered/estimated states. "
      ],
      "metadata": {
        "id": "JOtg29-4pDOt"
      }
    },
    {
      "cell_type": "code",
      "source": [
        "# setting up the kalman filter with the parameters we just estimated\n",
        "kf = KalmanFilter(initial_state_mean = ism, \n",
        "                  transition_matrices = A, \n",
        "                  observation_matrices = C, \n",
        "                  transition_covariance = est_trans_cov, \n",
        "                  observation_covariance = est_obs_cov)"
      ],
      "metadata": {
        "id": "TV7MqlfJ9nKe"
      },
      "execution_count": null,
      "outputs": []
    },
    {
      "cell_type": "code",
      "source": [
        "# using the kalman filter to give us the estimated states\n",
        "(filtered_state_means, filtered_state_covariances) = kf.filter(xy) "
      ],
      "metadata": {
        "id": "5jGYWsDv-PSk"
      },
      "execution_count": null,
      "outputs": []
    },
    {
      "cell_type": "code",
      "source": [
        "# plotting the estimated states\n",
        "plt.plot(filtered_state_means[:,0],filtered_state_means[:,2])\n",
        "plt.title(\"Filtered Path of Norbert\", size = 16)\n",
        "plt.xlabel(\"Latitude\", size = 14)\n",
        "plt.ylabel(\"Longitude\", size = 14)"
      ],
      "metadata": {
        "colab": {
          "base_uri": "https://localhost:8080/",
          "height": 319
        },
        "id": "PPVsuVsJD2XH",
        "outputId": "c98d6b5b-8465-41c9-9971-852981254ed5"
      },
      "execution_count": null,
      "outputs": [
        {
          "output_type": "execute_result",
          "data": {
            "text/plain": [
              "Text(0, 0.5, 'Longitude')"
            ]
          },
          "metadata": {},
          "execution_count": 20
        },
        {
          "output_type": "display_data",
          "data": {
            "text/plain": [
              "<Figure size 432x288 with 1 Axes>"
            ],
            "image/png": "[encoded data removed]"
          },
          "metadata": {}
        }
      ]
    },
    {
      "cell_type": "markdown",
      "source": [
        "#### Predicting next state"
      ],
      "metadata": {
        "id": "nSHsOgoKgFHQ"
      }
    },
    {
      "cell_type": "markdown",
      "source": [
        "Now that we have successfully used the Kalman Filter to filter our existing data"
      ],
      "metadata": {
        "id": "qcarvFpWporF"
      }
    },
    {
      "cell_type": "code",
      "source": [
        "# using the kalman filter update feature to tell us the next state & covariance values\n",
        "next_mean, next_covariance = kf.filter_update(filtered_state_means[-1], filtered_state_covariances[-1])"
      ],
      "metadata": {
        "id": "IUe-ph7KgDiq"
      },
      "execution_count": null,
      "outputs": []
    },
    {
      "cell_type": "code",
      "source": [
        "# what is the next predicted location?\n",
        "print(\"Next location in 6 hours will be: (\", next_mean[0], \", \", next_mean[2], \")\")"
      ],
      "metadata": {
        "colab": {
          "base_uri": "https://localhost:8080/"
        },
        "id": "_twAZoqrha-2",
        "outputId": "657352b5-c37f-4f32-b8c8-e309112b6538"
      },
      "execution_count": null,
      "outputs": [
        {
          "output_type": "stream",
          "name": "stdout",
          "text": [
            "Next location in 6 hours will be: ( 26.283305577066773 ,  116.16666139108358 )\n"
          ]
        }
      ]
    },
    {
      "cell_type": "code",
      "source": [
        "# plotting observed, filtered, and predicted states\n",
        "\n",
        "plt.subplots(figsize = (10, 8))\n",
        "\n",
        "plt.plot(x, y, label = \"Observed\")\n",
        "plt.plot(filtered_state_means[:,0],filtered_state_means[:,2], \"--\", label = \"Filtered\")\n",
        "plt.scatter(next_mean[0],next_mean[2], label = \"Predicted\")\n",
        "\n",
        "plt.title(\"Observed, Filtered, and Predicted Position of Norbert\", size = 16)\n",
        "plt.xlabel(\"Latitude\", size = 14)\n",
        "plt.ylabel(\"Longitude\", size = 14)\n",
        "plt.legend(loc = \"best\")"
      ],
      "metadata": {
        "colab": {
          "base_uri": "https://localhost:8080/",
          "height": 537
        },
        "id": "C3cGKTIYhIWN",
        "outputId": "adf53038-71b2-41ce-dcd6-f13019bc7004"
      },
      "execution_count": null,
      "outputs": [
        {
          "output_type": "execute_result",
          "data": {
            "text/plain": [
              "<matplotlib.legend.Legend at 0x7f4c403ee9d0>"
            ]
          },
          "metadata": {},
          "execution_count": 19
        },
        {
          "output_type": "display_data",
          "data": {
            "text/plain": [
              "<Figure size 720x576 with 1 Axes>"
            ],
            "image/png": "[encoded data removed]"
          },
          "metadata": {}
        }
      ]
    },
    {
      "cell_type": "markdown",
      "source": [
        "###**DISCUSSION**"
      ],
      "metadata": {
        "id": "3vByuZ9O7thb"
      }
    },
    {
      "cell_type": "markdown",
      "source": [
        "Using our system model, we were able to use kalman filtering as well as prediction to accurately filter and predict future location data for tropical storms. As it can be seen in the observed, filtered, and predicted position graph, our system parameters accurately represent our system as the overlap between filtered and predicted data with the measured data is near perfect. It does appear that the observed data may not have a significant amount of noise in the measurements, and therefore the Kalman filter predicted states barely differ from the measured states. \n",
        "\n",
        "Assuming that other cyclones would perform similarly under the kalman filter, this program will be able to accurately predict the latitude and longitude of storms in the HURDAT2 database 1 time step in the future, which is 6 hours. Giving 6 additional hours of warning to people in the path of travel of these storms will give them the ability to better prepare for the storm and to find additional shelter if needed. "
      ],
      "metadata": {
        "id": "viIxslkq7wU_"
      }
    }
  ]
}